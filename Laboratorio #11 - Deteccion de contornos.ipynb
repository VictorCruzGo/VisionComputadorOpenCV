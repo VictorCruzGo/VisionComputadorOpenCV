{
 "cells": [
  {
   "cell_type": "code",
   "execution_count": 3,
   "metadata": {},
   "outputs": [],
   "source": [
    "import cv2\n",
    "import numpy as np\n",
    "import matplotlib.pyplot as plt\n",
    "%matplotlib inline"
   ]
  },
  {
   "cell_type": "code",
   "execution_count": 55,
   "metadata": {},
   "outputs": [],
   "source": [
    "img=cv2.imread(\"Images/internal_external.png\",0)"
   ]
  },
  {
   "cell_type": "code",
   "execution_count": 56,
   "metadata": {},
   "outputs": [
    {
     "data": {
      "text/plain": [
       "(450, 450)"
      ]
     },
     "execution_count": 56,
     "metadata": {},
     "output_type": "execute_result"
    }
   ],
   "source": [
    "img.shape"
   ]
  },
  {
   "cell_type": "code",
   "execution_count": 57,
   "metadata": {},
   "outputs": [
    {
     "data": {
      "text/plain": [
       "<matplotlib.image.AxesImage at 0x251916fa080>"
      ]
     },
     "execution_count": 57,
     "metadata": {},
     "output_type": "execute_result"
    },
    {
     "data": {
      "image/png": "[encoded data removed]",
      "text/plain": [
       "<Figure size 432x288 with 1 Axes>"
      ]
     },
     "metadata": {
      "needs_background": "light"
     },
     "output_type": "display_data"
    }
   ],
   "source": [
    "plt.imshow(img, cmap=\"gray\")"
   ]
  },
  {
   "cell_type": "markdown",
   "metadata": {},
   "source": [
    "## Encontrar contornos"
   ]
  },
  {
   "cell_type": "code",
   "execution_count": 32,
   "metadata": {},
   "outputs": [],
   "source": [
    "#Contornos\n",
    "#Se pueden detectar los contornos internos y externos.\n",
    "#Se utiliza la funcion findContorns."
   ]
  },
  {
   "cell_type": "code",
   "execution_count": 58,
   "metadata": {},
   "outputs": [],
   "source": [
    "#Detectar contornos internos y externos\n",
    "image,contours,hierarchy= cv2.findContours(img,cv2.RETR_CCOMP, cv2.CHAIN_APPROX_SIMPLE)"
   ]
  },
  {
   "cell_type": "code",
   "execution_count": 59,
   "metadata": {},
   "outputs": [
    {
     "data": {
      "text/plain": [
       "list"
      ]
     },
     "execution_count": 59,
     "metadata": {},
     "output_type": "execute_result"
    }
   ],
   "source": [
    "type(contours)"
   ]
  },
  {
   "cell_type": "code",
   "execution_count": 60,
   "metadata": {},
   "outputs": [
    {
     "data": {
      "text/plain": [
       "779"
      ]
     },
     "execution_count": 60,
     "metadata": {},
     "output_type": "execute_result"
    }
   ],
   "source": [
    "len(contours)"
   ]
  },
  {
   "cell_type": "code",
   "execution_count": 51,
   "metadata": {},
   "outputs": [
    {
     "data": {
      "text/plain": [
       "numpy.ndarray"
      ]
     },
     "execution_count": 51,
     "metadata": {},
     "output_type": "execute_result"
    }
   ],
   "source": [
    "type(hierarchy)"
   ]
  },
  {
   "cell_type": "code",
   "execution_count": 52,
   "metadata": {},
   "outputs": [
    {
     "data": {
      "text/plain": [
       "(1, 779, 4)"
      ]
     },
     "execution_count": 52,
     "metadata": {},
     "output_type": "execute_result"
    }
   ],
   "source": [
    "hierarchy.shape\n",
    "\n",
    "#hierarchy se refiere si ha encontrado externo o interno\n",
    "\n",
    "#(1=imagen,22=nro contornos,4=limite de figuras y contornos)"
   ]
  },
  {
   "cell_type": "code",
   "execution_count": 15,
   "metadata": {},
   "outputs": [
    {
     "data": {
      "text/plain": [
       "array([[[  1,  -1,  -1,  -1],\n",
       "        [  2,   0,  -1,  -1],\n",
       "        [  3,   1,  -1,  -1],\n",
       "        [  4,   2,  -1,  -1],\n",
       "        [  5,   3,  -1,  -1],\n",
       "        [  6,   4,  -1,  -1],\n",
       "        [  7,   5,  -1,  -1],\n",
       "        [  8,   6,  -1,  -1],\n",
       "        [  9,   7,  -1,  -1],\n",
       "        [ 10,   8,  -1,  -1],\n",
       "        [ 11,   9,  -1,  -1],\n",
       "        [ 12,  10,  -1,  -1],\n",
       "        [ 41,  11,  13,  -1],\n",
       "        [ 14,  -1,  -1,  12],\n",
       "        [ 15,  13,  -1,  12],\n",
       "        [ 16,  14,  -1,  12],\n",
       "        [ 17,  15,  -1,  12],\n",
       "        [ 18,  16,  -1,  12],\n",
       "        [ 19,  17,  -1,  12],\n",
       "        [ 20,  18,  -1,  12],\n",
       "        [ 21,  19,  -1,  12],\n",
       "        [ 22,  20,  -1,  12],\n",
       "        [ 23,  21,  -1,  12],\n",
       "        [ 24,  22,  -1,  12],\n",
       "        [ 25,  23,  -1,  12],\n",
       "        [ 26,  24,  -1,  12],\n",
       "        [ 27,  25,  -1,  12],\n",
       "        [ 28,  26,  -1,  12],\n",
       "        [ 29,  27,  -1,  12],\n",
       "        [ 30,  28,  -1,  12],\n",
       "        [ 31,  29,  -1,  12],\n",
       "        [ 32,  30,  -1,  12],\n",
       "        [ 33,  31,  -1,  12],\n",
       "        [ 34,  32,  -1,  12],\n",
       "        [ 35,  33,  -1,  12],\n",
       "        [ 36,  34,  -1,  12],\n",
       "        [ 37,  35,  -1,  12],\n",
       "        [ 38,  36,  -1,  12],\n",
       "        [ 39,  37,  -1,  12],\n",
       "        [ 40,  38,  -1,  12],\n",
       "        [ -1,  39,  -1,  12],\n",
       "        [ 42,  12,  -1,  -1],\n",
       "        [ 43,  41,  -1,  -1],\n",
       "        [ 44,  42,  -1,  -1],\n",
       "        [ 45,  43,  -1,  -1],\n",
       "        [ 46,  44,  -1,  -1],\n",
       "        [ 47,  45,  -1,  -1],\n",
       "        [ 48,  46,  -1,  -1],\n",
       "        [ 49,  47,  -1,  -1],\n",
       "        [ 50,  48,  -1,  -1],\n",
       "        [ 51,  49,  -1,  -1],\n",
       "        [ 52,  50,  -1,  -1],\n",
       "        [ 53,  51,  -1,  -1],\n",
       "        [ 54,  52,  -1,  -1],\n",
       "        [ 55,  53,  -1,  -1],\n",
       "        [ 56,  54,  -1,  -1],\n",
       "        [126,  55,  57,  -1],\n",
       "        [ 58,  -1,  -1,  56],\n",
       "        [ 59,  57,  -1,  56],\n",
       "        [ 60,  58,  -1,  56],\n",
       "        [ 61,  59,  -1,  56],\n",
       "        [ 62,  60,  -1,  56],\n",
       "        [ 63,  61,  -1,  56],\n",
       "        [ 64,  62,  -1,  56],\n",
       "        [ 65,  63,  -1,  56],\n",
       "        [ 66,  64,  -1,  56],\n",
       "        [ 67,  65,  -1,  56],\n",
       "        [ 68,  66,  -1,  56],\n",
       "        [ 69,  67,  -1,  56],\n",
       "        [ 70,  68,  -1,  56],\n",
       "        [ 71,  69,  -1,  56],\n",
       "        [ 72,  70,  -1,  56],\n",
       "        [ 73,  71,  -1,  56],\n",
       "        [ 74,  72,  -1,  56],\n",
       "        [ 75,  73,  -1,  56],\n",
       "        [ 76,  74,  -1,  56],\n",
       "        [ 77,  75,  -1,  56],\n",
       "        [ 78,  76,  -1,  56],\n",
       "        [ 79,  77,  -1,  56],\n",
       "        [ 80,  78,  -1,  56],\n",
       "        [ 81,  79,  -1,  56],\n",
       "        [ 82,  80,  -1,  56],\n",
       "        [ 83,  81,  -1,  56],\n",
       "        [ 84,  82,  -1,  56],\n",
       "        [ 85,  83,  -1,  56],\n",
       "        [ 86,  84,  -1,  56],\n",
       "        [ 87,  85,  -1,  56],\n",
       "        [ 88,  86,  -1,  56],\n",
       "        [ 89,  87,  -1,  56],\n",
       "        [ 90,  88,  -1,  56],\n",
       "        [ 91,  89,  -1,  56],\n",
       "        [ 92,  90,  -1,  56],\n",
       "        [ 93,  91,  -1,  56],\n",
       "        [ 94,  92,  -1,  56],\n",
       "        [ 95,  93,  -1,  56],\n",
       "        [ 96,  94,  -1,  56],\n",
       "        [ 97,  95,  -1,  56],\n",
       "        [ 98,  96,  -1,  56],\n",
       "        [ 99,  97,  -1,  56],\n",
       "        [100,  98,  -1,  56],\n",
       "        [101,  99,  -1,  56],\n",
       "        [102, 100,  -1,  56],\n",
       "        [103, 101,  -1,  56],\n",
       "        [104, 102,  -1,  56],\n",
       "        [105, 103,  -1,  56],\n",
       "        [106, 104,  -1,  56],\n",
       "        [107, 105,  -1,  56],\n",
       "        [108, 106,  -1,  56],\n",
       "        [109, 107,  -1,  56],\n",
       "        [110, 108,  -1,  56],\n",
       "        [111, 109,  -1,  56],\n",
       "        [112, 110,  -1,  56],\n",
       "        [113, 111,  -1,  56],\n",
       "        [114, 112,  -1,  56],\n",
       "        [115, 113,  -1,  56],\n",
       "        [116, 114,  -1,  56],\n",
       "        [117, 115,  -1,  56],\n",
       "        [118, 116,  -1,  56],\n",
       "        [119, 117,  -1,  56],\n",
       "        [120, 118,  -1,  56],\n",
       "        [121, 119,  -1,  56],\n",
       "        [122, 120,  -1,  56],\n",
       "        [123, 121,  -1,  56],\n",
       "        [124, 122,  -1,  56],\n",
       "        [125, 123,  -1,  56],\n",
       "        [ -1, 124,  -1,  56],\n",
       "        [138,  56, 127,  -1],\n",
       "        [128,  -1,  -1, 126],\n",
       "        [129, 127,  -1, 126],\n",
       "        [130, 128,  -1, 126],\n",
       "        [131, 129,  -1, 126],\n",
       "        [132, 130,  -1, 126],\n",
       "        [133, 131,  -1, 126],\n",
       "        [134, 132,  -1, 126],\n",
       "        [135, 133,  -1, 126],\n",
       "        [136, 134,  -1, 126],\n",
       "        [137, 135,  -1, 126],\n",
       "        [ -1, 136,  -1, 126],\n",
       "        [139, 126,  -1,  -1],\n",
       "        [140, 138,  -1,  -1],\n",
       "        [ -1, 139,  -1,  -1]]], dtype=int32)"
      ]
     },
     "execution_count": 15,
     "metadata": {},
     "output_type": "execute_result"
    }
   ],
   "source": [
    "hierarchy\n",
    "\n",
    "#Verificar la ultima columna."
   ]
  },
  {
   "cell_type": "code",
   "execution_count": 53,
   "metadata": {},
   "outputs": [],
   "source": [
    "#Mostrar los contornos externos\n",
    "external_contours=np.zeros(image.shape)\n",
    "for i in range(len(contours)):\n",
    "    if hierarchy[0][i][3]==-1:\n",
    "        cv2.drawContours(external_contours,contours,i,255,-1) #255=umbral; -1=relleno"
   ]
  },
  {
   "cell_type": "code",
   "execution_count": 54,
   "metadata": {},
   "outputs": [
    {
     "data": {
      "text/plain": [
       "<matplotlib.image.AxesImage at 0x251919d6588>"
      ]
     },
     "execution_count": 54,
     "metadata": {},
     "output_type": "execute_result"
    },
    {
     "data": {
      "image/png": "[encoded data removed]",
      "text/plain": [
       "<Figure size 432x288 with 1 Axes>"
      ]
     },
     "metadata": {
      "needs_background": "light"
     },
     "output_type": "display_data"
    }
   ],
   "source": [
    "plt.imshow(external_contours, cmap=\"gray\")"
   ]
  },
  {
   "cell_type": "code",
   "execution_count": 40,
   "metadata": {},
   "outputs": [
    {
     "data": {
      "text/plain": [
       "(800, 800)"
      ]
     },
     "execution_count": 40,
     "metadata": {},
     "output_type": "execute_result"
    }
   ],
   "source": [
    "external_contours.shape"
   ]
  },
  {
   "cell_type": "code",
   "execution_count": 41,
   "metadata": {},
   "outputs": [
    {
     "data": {
      "text/plain": [
       "<matplotlib.image.AxesImage at 0x2519129d128>"
      ]
     },
     "execution_count": 41,
     "metadata": {},
     "output_type": "execute_result"
    },
    {
     "data": {
      "image/png": "[encoded data removed]",
      "text/plain": [
       "<Figure size 432x288 with 1 Axes>"
      ]
     },
     "metadata": {
      "needs_background": "light"
     },
     "output_type": "display_data"
    }
   ],
   "source": [
    "plt.imshow(image)"
   ]
  },
  {
   "cell_type": "code",
   "execution_count": 42,
   "metadata": {},
   "outputs": [],
   "source": [
    "#Mostrar los contornos internos\n",
    "\n",
    "image_internal=np.zeros(image.shape)"
   ]
  },
  {
   "cell_type": "code",
   "execution_count": 43,
   "metadata": {},
   "outputs": [],
   "source": [
    "for i in range(len(contours)):\n",
    "    if hierarchy[0][i][3]!=-1:\n",
    "        cv2.drawContours(image_internal,contours, i,255,-1)"
   ]
  },
  {
   "cell_type": "code",
   "execution_count": 44,
   "metadata": {},
   "outputs": [
    {
     "data": {
      "text/plain": [
       "<matplotlib.image.AxesImage at 0x251912f4438>"
      ]
     },
     "execution_count": 44,
     "metadata": {},
     "output_type": "execute_result"
    },
    {
     "data": {
      "image/png": "[encoded data removed]",
      "text/plain": [
       "<Figure size 432x288 with 1 Axes>"
      ]
     },
     "metadata": {
      "needs_background": "light"
     },
     "output_type": "display_data"
    }
   ],
   "source": [
    "plt.imshow(image_internal, cmap=\"gray\")"
   ]
  },
  {
   "cell_type": "code",
   "execution_count": 28,
   "metadata": {},
   "outputs": [],
   "source": [
    "#La deteccion de contornos (findContours) y bordes (Canny) son diferentes"
   ]
  }
 ],
 "metadata": {
  "kernelspec": {
   "display_name": "Python 3",
   "language": "python",
   "name": "python3"
  },
  "language_info": {
   "codemirror_mode": {
    "name": "ipython",
    "version": 3
   },
   "file_extension": ".py",
   "mimetype": "text/x-python",
   "name": "python",
   "nbconvert_exporter": "python",
   "pygments_lexer": "ipython3",
   "version": "3.6.6"
  }
 },
 "nbformat": 4,
 "nbformat_minor": 2
}
