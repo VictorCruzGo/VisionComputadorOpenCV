{
 "cells": [
  {
   "cell_type": "code",
   "execution_count": 2,
   "metadata": {},
   "outputs": [],
   "source": [
    "import cv2\n",
    "import time #Biblioteca para el manejo de tiempo\n",
    "\n",
    "cap=cv2.VideoCapture(\"cursoOpenCV.mp4\")\n",
    "\n",
    "if cap.isOpened()==False:\n",
    "    print(\"Error - Archivo no encontrado o error en el codec utilizado\")\n",
    "while cap.isOpened():\n",
    "    #ret=verifica la actualizacion del video\n",
    "    #frame, capturas de cada imagen\n",
    "    ret,frame=cap.read()\n",
    "    if ret ==True: #Si el archivo se esta actualizando constantemente, esta abierto.\n",
    "        time.sleep(1/20)#1/nro. de frames\n",
    "        cv2.imshow(\"Frame\", frame)\n",
    "        if cv2.waitKey(10) & 0xFF==ord(\"q\"):\n",
    "            break\n",
    "    else: #Si no hay actualizacion del video. Terminio de reproducir el video\n",
    "        break\n",
    "cap.release()\n",
    "cv2.destroyAllWindows()"
   ]
  },
  {
   "cell_type": "code",
   "execution_count": null,
   "metadata": {},
   "outputs": [],
   "source": []
  }
 ],
 "metadata": {
  "kernelspec": {
   "display_name": "Python 3",
   "language": "python",
   "name": "python3"
  },
  "language_info": {
   "codemirror_mode": {
    "name": "ipython",
    "version": 3
   },
   "file_extension": ".py",
   "mimetype": "text/x-python",
   "name": "python",
   "nbconvert_exporter": "python",
   "pygments_lexer": "ipython3",
   "version": "3.8.3"
  }
 },
 "nbformat": 4,
 "nbformat_minor": 4
}
