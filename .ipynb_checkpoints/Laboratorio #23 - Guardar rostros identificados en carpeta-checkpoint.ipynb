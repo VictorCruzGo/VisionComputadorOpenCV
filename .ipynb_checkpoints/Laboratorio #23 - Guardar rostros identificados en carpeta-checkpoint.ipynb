{
 "cells": [
  {
   "cell_type": "code",
   "execution_count": 2,
   "metadata": {},
   "outputs": [
    {
     "name": "stdout",
     "output_type": "stream",
     "text": [
      "Carpeta creada: Rostros\n"
     ]
    }
   ],
   "source": [
    "import cv2\n",
    "import os\n",
    "\n",
    "imagePath=\"Images\"\n",
    "imagesPathList=os.listdir(imagePath)\n",
    "#print(\"Listado=\",imagesPathList)\n",
    "\n",
    "if not os.path.exists(\"Rostros encontrados\"):\n",
    "    print(\"Carpeta creada: Rostros\")\n",
    "    os.makedirs(\"Rostros\")\n",
    "    \n",
    "faceClassif=cv2.CascadeClassifier(\"haarcascades/haarcascade_frontalface_default.xml\")\n",
    "count=0\n",
    "for imageName in imagesPathList:\n",
    "    #print(\"ImageName:\",imageName)\n",
    "    image=cv2.imread(imagePath+'/'+imageName)\n",
    "    imageAux=image.copy()\n",
    "    gray=cv2.cvtColor(image,cv2.COLOR_BGR2GRAY)\n",
    "    faces=faceClassif.detectMultiScale(gray,1.1,5)\n",
    "    for(x,y,w,h) in faces:\n",
    "        cv2.rectangle(image,(x,y),(x+w,y+h),(128,0,255),2)\n",
    "    cv2.rectangle(image,(10,5),(450,25),(255,255,255),-1)\n",
    "    cv2.putText(image,\"Presione s, para almacenar los rostros encontrados\",(10,20),2,0.5,(128,0,255),1,cv2.LINE_AA)\n",
    "    cv2.imshow(\"image\",image)\n",
    "    \n",
    "    k=cv2.waitKey(0)\n",
    "    if k== ord(\"s\"):\n",
    "        for(x,y,w,h) in faces:            \n",
    "            rostro=imageAux[y:y+h,x:x+w]\n",
    "            rostro=cv2.resize(rostro,(150,150),interpolation=cv2.INTER_CUBIC)\n",
    "            #cv2.imshow(\"rostro\",rostro)\n",
    "            #cv2.waitKey(0)\n",
    "            cv2.imwrite(\"Rostros/rostro_{}.jpg\".format(count),rostro)\n",
    "            count=count+1\n",
    "    elif k==27:\n",
    "        break\n",
    "        \n",
    "cv2.destroyAllWindows()"
   ]
  },
  {
   "cell_type": "code",
   "execution_count": null,
   "metadata": {},
   "outputs": [],
   "source": []
  }
 ],
 "metadata": {
  "kernelspec": {
   "display_name": "Python 3",
   "language": "python",
   "name": "python3"
  },
  "language_info": {
   "codemirror_mode": {
    "name": "ipython",
    "version": 3
   },
   "file_extension": ".py",
   "mimetype": "text/x-python",
   "name": "python",
   "nbconvert_exporter": "python",
   "pygments_lexer": "ipython3",
   "version": "3.6.6"
  }
 },
 "nbformat": 4,
 "nbformat_minor": 2
}
