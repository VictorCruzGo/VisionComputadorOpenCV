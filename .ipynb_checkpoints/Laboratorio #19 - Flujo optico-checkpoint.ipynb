{
 "cells": [
  {
   "cell_type": "code",
   "execution_count": 2,
   "metadata": {},
   "outputs": [
    {
     "ename": "AttributeError",
     "evalue": "'cv2.VideoCapture' object has no attribute 'realese'",
     "output_type": "error",
     "traceback": [
      "\u001b[1;31m---------------------------------------------------------------------------\u001b[0m",
      "\u001b[1;31mAttributeError\u001b[0m                            Traceback (most recent call last)",
      "\u001b[1;32m<ipython-input-2-f60bbec29f73>\u001b[0m in \u001b[0;36m<module>\u001b[1;34m\u001b[0m\n\u001b[0;32m     50\u001b[0m \u001b[1;33m\u001b[0m\u001b[0m\n\u001b[0;32m     51\u001b[0m \u001b[0mcv2\u001b[0m\u001b[1;33m.\u001b[0m\u001b[0mdestroyAllWindows\u001b[0m\u001b[1;33m(\u001b[0m\u001b[1;33m)\u001b[0m\u001b[1;33m\u001b[0m\u001b[0m\n\u001b[1;32m---> 52\u001b[1;33m \u001b[0mcap\u001b[0m\u001b[1;33m.\u001b[0m\u001b[0mrealese\u001b[0m\u001b[1;33m(\u001b[0m\u001b[1;33m)\u001b[0m\u001b[1;33m\u001b[0m\u001b[0m\n\u001b[0m",
      "\u001b[1;31mAttributeError\u001b[0m: 'cv2.VideoCapture' object has no attribute 'realese'"
     ]
    }
   ],
   "source": [
    "import cv2\n",
    "import numpy as np\n",
    "\n",
    "#El flujo optico esta relacionado con la funcion Lukas-Kanade. Movimiento de puentos especifios o regiones. Tiene que ver una verificacion entre un frame y otro.\n",
    "#El flujo optico es el seguimiento que se esta realizando\n",
    "    #1ro detectar esquinas. (Shitomasi)\n",
    "    #2do se hace el flujo. (Lukas Kanade)\n",
    "#Deteccion de esquinas - Shitomasi.\n",
    "\n",
    "#Control y deteccion de esquina\n",
    "#Parametros Shitomasi\n",
    "#corner_track_params=dict(maxCorners=10 'Cantidad de esquinas a detectar',qualityLevel=0.3 'nivel de calidad',minDistance=7 'distancia entre esquinas',blockSize=7 'tamano de kernel')\n",
    "corner_track_params=dict(maxCorners=10,qualityLevel=0.3,minDistance=7,blockSize=7)\n",
    "\n",
    "\n",
    "#Parametros Lukas Kanade\n",
    "#lk_params=dict(winSize=(200,200)'tamano de ventana',maxLevel=2 'nivel maximo de deteccion. 2 nivel las esquinas detectadas', criteria=(cv2.TERM_CRITERIA_EPS|cv2.TERM_CRITERIA_COUNT,10,0.03) 'Criterio de verificacion de flujo optimo. EPS valor de error. 10 iteracion y epsilo 0.3')\n",
    "lk_params=dict(winSize=(200,200),maxLevel=2, criteria=(cv2.TERM_CRITERIA_EPS|cv2.TERM_CRITERIA_COUNT,10,0.03))\n",
    "\n",
    "cap=cv2.VideoCapture(0)\n",
    "#Lectura del frame anterior\n",
    "ret,prev_frame=cap.read() \n",
    "prev_frame_gray=cv2.cvtColor(prev_frame, cv2.COLOR_BGR2GRAY)#Convertir el frameanterior a escala de grises.\n",
    "prevPts=cv2.goodFeaturesToTrack(prev_frame_gray, mask=None, **corner_track_params) #Captura previa de las esquinas con shitomasi.\n",
    "mask=np.zeros_like(prev_frame) #Matriz verificadora de puntos #Enmascarado. zeros_likes, matriz verificadora de puntos.\n",
    "\n",
    "while True:\n",
    "    #Lectura del frame actual\n",
    "    ret, frame=cap.read() \n",
    "    frame_gray=cv2.cvtColor(frame, cv2.COLOR_BGR2GRAY) \n",
    "    nextPts, status,error=cv2.calcOpticalFlowPyrLK(prev_frame_gray, frame_gray,prevPts,None,**lk_params) #Captura del flujo optico con Lukas Canada. Siempre trabajar con la funcion piramidal.\n",
    "    good_new=nextPts[status==1] #Frame actual bueno. Buenas esquinas de seguimiento. Obtener los mejores arrays a nivel de estatus.El mejor array tiene el valor de 1.\n",
    "    good_prev=prevPts[status==1] #Frame anterior bueno.\n",
    "    \n",
    "    #Generacion de linea para ver el moviento\n",
    "    for i,(new,prev) in enumerate(zip(good_new, good_prev)): #La compresion para eliminar lo malo y quedarse con lo bueno de las esquinas.\n",
    "        x_new,y_new=new.ravel()#Ravel aplana la informacion. Matriz a Vector.\n",
    "        x_prev,y_prev=prev.ravel()\n",
    "        #Dibujar la linea\n",
    "        mask=cv2.line(mask,(x_new,y_new),(x_prev,y_prev),(0,255,0),3) \n",
    "        #Dibujar circulo\n",
    "        frame=cv2.circle(frame,(x_new,y_new),8,(0,0,255),-1)    \n",
    "    img=cv2.add(frame,mask) #Agragar las capas del frame y mask\n",
    "    cv2.imshow(\"Frame\",img)\n",
    "    k=cv2.waitKey(30) & 0xFF\n",
    "    if k==27:\n",
    "        break\n",
    "    prev_frame_gray=frame_gray.copy()\n",
    "    prevPts=good_new.reshape(-1,1,2) #Redimensionado del punto para los puntos previos\n",
    "    \n",
    "cv2.destroyAllWindows()\n",
    "cap.realese()\n"
   ]
  },
  {
   "cell_type": "code",
   "execution_count": 9,
   "metadata": {},
   "outputs": [],
   "source": []
  }
 ],
 "metadata": {
  "kernelspec": {
   "display_name": "Python 3",
   "language": "python",
   "name": "python3"
  },
  "language_info": {
   "codemirror_mode": {
    "name": "ipython",
    "version": 3
   },
   "file_extension": ".py",
   "mimetype": "text/x-python",
   "name": "python",
   "nbconvert_exporter": "python",
   "pygments_lexer": "ipython3",
   "version": "3.6.6"
  }
 },
 "nbformat": 4,
 "nbformat_minor": 4
}
