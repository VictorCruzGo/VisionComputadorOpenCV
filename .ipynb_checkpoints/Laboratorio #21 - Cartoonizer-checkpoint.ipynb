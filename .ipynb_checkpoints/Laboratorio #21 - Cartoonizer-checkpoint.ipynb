{
 "cells": [
  {
   "cell_type": "code",
   "execution_count": null,
   "metadata": {},
   "outputs": [],
   "source": [
    "import cv2\n",
    "import numpy as np\n",
    "\n",
    "def print_howto():\n",
    "    print(\"\"\"\n",
    "        Seleccionar modo de imagen:\n",
    "        1. Dibujo sin color - Press \"s\"\n",
    "        2. Dibujo con color - Press \"c\"\n",
    "    \"\"\")\n",
    "    \n",
    "#El kernel siempre es de tamno 5x5\n",
    "def cartoonizer_image(img,ksize=5,sketch_mode=False):\n",
    "    num_repetitions,sigma_color, sigma_space, ds_factor=10,5,7,4 \n",
    "    img_gray=cv2.cvtColor(img,cv2.COLOR_BGR2GRAY)\n",
    "    img_gray=cv2.medianBlur(img_gray,7)#Desenfocar para eliminar el ruido. Rango va entre 0 y 10.\n",
    "    edges=cv2.Laplacian(img_gray,cv2.CV_8U,ksize=ksize)#Detectar bordes con Lapacian\n",
    "    ret,mask=cv2.threshold(edges,100,255,cv2.THRESH_BINARY_INV)#Umbrales en binario\n",
    "    if sketch_mode:\n",
    "        return cv2.cvtColor(mask,cv2.COLOR_GRAY2BGR)\n",
    "    #Se aconseja redimensionar la imagen para evitar problemas de computo\n",
    "    img_small:cv2.resize(img,None,fx=1.0/ds_factor,fy=1.0/ds_factor,interpolation=cv2.INTER_AREA)\n",
    "    \n",
    "    for i in range(num_repetitions):\n",
    "        img_small=cv2.bilateralFilter(img_small,ksize,sigma_color,sigma_space)\n",
    "    img_output=cv2.resize(img_small,None,fx=ds_factor,fy=ds_factor,interpolation=cv2.INTER_LINEAR)\n",
    "    dst=np.zeros(img_gray.shape)\n",
    "    \n",
    "    dst=cv2.bitwise_and(img_output,img_output,mask=mask)\n",
    "    return dst\n",
    "\n",
    "if __name__==\"__main__\":\n",
    "    print_howto()\n",
    "    cap=cv2.VideoCapture(1)\n",
    "    cur_mod=None\n",
    "    while True:\n",
    "        ret,frame=cap.read()\n",
    "        frame=cv2.resize(frame,None,fx=0.7,fy=0.7,interpolation=cv2.INTER_LINEAR)\n",
    "        c=cv2.waitKey(1)\n",
    "        if c==27:\n",
    "            break\n",
    "        if c!=-1 and c!=255 and c!=cur_mod:\n",
    "            cur_mod=c\n",
    "        if cur_mod==ord(\"s\"):\n",
    "            cv2.imshow(\"Cartoonize\",cartoonizer_image(frame,ksize=5,sketch_mode=True))\n",
    "        elif cur_mod==ord(\"c\"):\n",
    "            cv2.imshow(\"Cartoonize\",cartoonizer_image(frame,ksize=5,sketch_mode=False))\n",
    "        else:\n",
    "            cv2.imshow(\"Cartoonize\",frame)\n",
    "    cap.release()\n",
    "    cv2.destroyAllWindows()\n",
    "        \n",
    "        \n",
    "        \n",
    "        \n",
    "        \n",
    "        \n",
    "    "
   ]
  },
  {
   "cell_type": "code",
   "execution_count": null,
   "metadata": {},
   "outputs": [],
   "source": [
    "\n"
   ]
  }
 ],
 "metadata": {
  "kernelspec": {
   "display_name": "Python 3",
   "language": "python",
   "name": "python3"
  },
  "language_info": {
   "codemirror_mode": {
    "name": "ipython",
    "version": 3
   },
   "file_extension": ".py",
   "mimetype": "text/x-python",
   "name": "python",
   "nbconvert_exporter": "python",
   "pygments_lexer": "ipython3",
   "version": "3.6.6"
  }
 },
 "nbformat": 4,
 "nbformat_minor": 2
}
