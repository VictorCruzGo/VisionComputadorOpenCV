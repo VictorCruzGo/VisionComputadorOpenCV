{
 "cells": [
  {
   "cell_type": "code",
   "execution_count": 7,
   "metadata": {},
   "outputs": [],
   "source": [
    "import cv2\n",
    "import os\n",
    "\n",
    "if not os.path.exists(\"Rostros\"):\n",
    "    print(\"Carpeta creada: Rostros\")\n",
    "    os.makedirs(\"Rostros\")\n",
    "    \n",
    "cap=cv2.VideoCapture(0)\n",
    "faceClassif=cv2.CascadeClassifier(\"haarcascades/haarcascade_frontalface_default.xml\")\n",
    "count=0\n",
    "\n",
    "while True:\n",
    "    ret,frame=cap.read()\n",
    "    frame=cv2.flip(frame,1)\n",
    "    gray=cv2.cvtColor(frame,cv2.COLOR_BGR2GRAY)\n",
    "    auxFrame=frame.copy()\n",
    "    faces=faceClassif.detectMultiScale(gray,1.1,5)\n",
    "    k=cv2.waitKey(1)\n",
    "    if k==27:\n",
    "        break\n",
    "    for(x,y,w,h) in faces:\n",
    "        cv2.rectangle(frame,(x,y),(x+w,y+h),(128,0,255),2)\n",
    "        rostro=auxFrame[y:y+h,x:x+w]\n",
    "        rostro=cv2.resize(rostro,(150,150),interpolation=cv2.INTER_CUBIC)\n",
    "        if k==ord(\"s\"):\n",
    "            cv2.imwrite(\"Rostros/Rostros-rostro_{}.jpg\".format(count),rostro)\n",
    "            cv2.imshow(\"rostro\",rostro)\n",
    "            count=count+1\n",
    "    cv2.rectangle(frame,(10,5),(450,25),(255,255,255),-1)\n",
    "    cv2.putText(frame,\"Presione s, para almacenar los rostros encontrados\",(10,20),2,0.5,(128,0,255),1,cv2.LINE_AA)\n",
    "    cv2.imshow(\"frame\",frame)\n",
    "cap.release()\n",
    "cv2.destroyAllWindows()\n",
    "    \n"
   ]
  },
  {
   "cell_type": "code",
   "execution_count": null,
   "metadata": {},
   "outputs": [],
   "source": []
  }
 ],
 "metadata": {
  "kernelspec": {
   "display_name": "Python 3",
   "language": "python",
   "name": "python3"
  },
  "language_info": {
   "codemirror_mode": {
    "name": "ipython",
    "version": 3
   },
   "file_extension": ".py",
   "mimetype": "text/x-python",
   "name": "python",
   "nbconvert_exporter": "python",
   "pygments_lexer": "ipython3",
   "version": "3.6.6"
  }
 },
 "nbformat": 4,
 "nbformat_minor": 2
}
