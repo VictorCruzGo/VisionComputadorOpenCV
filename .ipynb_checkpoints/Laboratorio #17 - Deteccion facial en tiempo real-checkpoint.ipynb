{
 "cells": [
  {
   "cell_type": "code",
   "execution_count": 1,
   "metadata": {},
   "outputs": [],
   "source": [
    "import cv2\n",
    "\n",
    "face_cascade=cv2.CascadeClassifier(\"haarcascades/haarcascade_frontalface_default.xml\")\n",
    "eye_cascade=cv2.CascadeClassifier(\"haarcascades/haarcascade_eye.xml\")\n",
    "\n",
    "def detect(gray,frame):\n",
    "    faces=face_cascade.detectMultiScale(gray,scaleFactor=1.3,minNeighbors=5)#Hacer un barrido de todos frames con presicion\n",
    "    \n",
    "    for (x,y,w,h) in faces:\n",
    "        #Dibujando el rectangulo al rededor del rostro detectado\n",
    "        cv2.rectangle(frame,(x,y),(x+w,y+h),(0,255,0),2)\n",
    "        #Deteccion de regiones de interes\n",
    "        roi_gray=gray[y:y+h,x:x+w]#Cada frame es una matriz\n",
    "        roi_color=frame[y:y+h,x:x+w]\n",
    "        \n",
    "        #Detectar los ojos del rostro\n",
    "        eyes=eye_cascade.detectMultiScale(roi_gray,scaleFactor=1.2,minNeighbors=5)\n",
    "        for(ex,ey,ew,eh) in eyes:\n",
    "            cv2.rectangle(roi_color,(ex,ey),(ex+ew,ey+eh),(255,0,0),2)\n",
    "    return frame\n",
    "\n",
    "video_capture=cv2.VideoCapture(1)\n",
    "\n",
    "while True:\n",
    "    _,frame=video_capture.read()\n",
    "    gray=cv2.cvtColor(frame,cv2.COLOR_BGR2RGB)\n",
    "    canvas=detect(gray,frame)\n",
    "    cv2.imshow(\"Video\",canvas)\n",
    "    \n",
    "    if cv2.waitKey(1)& 0xFF==ord(\"q\"):\n",
    "        break\n",
    "    \n",
    "video_capture.release()\n",
    "cv2.destroyAllWindows()"
   ]
  },
  {
   "cell_type": "code",
   "execution_count": null,
   "metadata": {},
   "outputs": [],
   "source": []
  },
  {
   "cell_type": "code",
   "execution_count": null,
   "metadata": {},
   "outputs": [],
   "source": []
  }
 ],
 "metadata": {
  "kernelspec": {
   "display_name": "Python 3",
   "language": "python",
   "name": "python3"
  },
  "language_info": {
   "codemirror_mode": {
    "name": "ipython",
    "version": 3
   },
   "file_extension": ".py",
   "mimetype": "text/x-python",
   "name": "python",
   "nbconvert_exporter": "python",
   "pygments_lexer": "ipython3",
   "version": "3.8.3"
  }
 },
 "nbformat": 4,
 "nbformat_minor": 4
}
