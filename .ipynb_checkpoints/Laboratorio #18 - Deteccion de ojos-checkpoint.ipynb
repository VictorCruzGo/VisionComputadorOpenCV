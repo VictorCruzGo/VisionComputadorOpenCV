{
 "cells": [
  {
   "cell_type": "code",
   "execution_count": 2,
   "metadata": {},
   "outputs": [],
   "source": [
    "import cv2\n",
    "import numpy as np\n",
    "\n",
    "face_cascade=cv2.CascadeClassifier(\"haarcascades/haarcascade_frontalface_alt.xml\")\n",
    "eye_cascade=cv2.CascadeClassifier(\"haarcascades/haarcascade_eye.xml\")\n",
    "\n",
    "if face_cascade.empty():\n",
    "    raise IOError(\"Error al cargar el clasificador de rostros\")\n",
    "\n",
    "if eye_cascade.empty():\n",
    "    raise IOError(\"Error al cargar el clasificador de ojos\")\n",
    "    \n",
    "cap=cv2.VideoCapture(0)\n",
    "\n",
    "#Hay ocasiones redimensionar el video para optimizar el consumo de recursos\n",
    "ds_factor=1\n",
    "\n",
    "while True:\n",
    "    ret,frame=cap.read()\n",
    "    frame=cv2.resize(frame,None,fx=ds_factor,fy=ds_factor,interpolation=cv2.INTER_AREA)#Redimensionado\n",
    "    gray=cv2.cvtColor(frame,cv2.COLOR_BGR2GRAY)#Convertir a escala de grises\n",
    "    faces=face_cascade.detectMultiScale(gray,scaleFactor=1.3,minNeighbors=5) #Detectar de rostros\n",
    "    for(x,y,w,h) in faces:\n",
    "        #Definicion de regiones de interes\n",
    "        roi_gray=gray[y:y+h,x:x+w]\n",
    "        roi_color=frame[y:y+h,x:x+w]\n",
    "        \n",
    "        eyes=eye_cascade.detectMultiScale(roi_gray)#Deteccion de ojos\n",
    "        for(ex,ey,ew,eh) in eyes:    \n",
    "            center=(int(ex+0.5*ew),int(ey+0.5*eh))#centro del video=0.5 para los ojos\n",
    "            radius=int(0.3*(ew+eh))#\n",
    "            color=(0,255,0)\n",
    "            thickness=3\n",
    "            cv2.circle(roi_color,center,radius,color,thickness)\n",
    "    cv2.imshow(\"Detector de ojos\",frame)\n",
    "    c=cv2.waitKey(1)\n",
    "    if c==27: #27=tecla escape\n",
    "        break\n",
    "cap.release()\n",
    "cv2.destroyAllWindows()"
   ]
  },
  {
   "cell_type": "code",
   "execution_count": null,
   "metadata": {},
   "outputs": [],
   "source": []
  }
 ],
 "metadata": {
  "kernelspec": {
   "display_name": "Python 3",
   "language": "python",
   "name": "python3"
  },
  "language_info": {
   "codemirror_mode": {
    "name": "ipython",
    "version": 3
   },
   "file_extension": ".py",
   "mimetype": "text/x-python",
   "name": "python",
   "nbconvert_exporter": "python",
   "pygments_lexer": "ipython3",
   "version": "3.6.6"
  }
 },
 "nbformat": 4,
 "nbformat_minor": 4
}
