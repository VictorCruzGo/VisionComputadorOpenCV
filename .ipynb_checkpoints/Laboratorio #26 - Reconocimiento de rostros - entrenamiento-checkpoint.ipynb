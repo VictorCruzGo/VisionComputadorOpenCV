{
 "cells": [
  {
   "cell_type": "code",
   "execution_count": null,
   "metadata": {},
   "outputs": [],
   "source": [
    "import cv2\n",
    "import os\n",
    "import numpy as np\n",
    "\n",
    "dataPath=\"Data\"\n",
    "peopleList=os.listdir(dataPath)\n",
    "print(\"Lista de personas\",peopleList)\n",
    "labels=[]\n",
    "facesData=[]\n",
    "label=0\n",
    "\n",
    "for nameDir in peopleList:\n",
    "    personPath=dataPath+'/'+nameDir\n",
    "    print(\"Leyendo las imagenes\")\n",
    "    for filename in os.listdir(personPath):\n",
    "        print(\"Rostros:\",nameDir+'/'+filename)\n",
    "        labels.append(label)\n",
    "        facesData.append(cv2.imread(personPath+'/'+filename,0))\n",
    "    label=label+1\n",
    "    \n",
    "#Hay tres modelos para entrenar modelos en opencv.\n",
    "    #EigenFaceRecognizer trabajan con presicon\n",
    "    #Dos trabajan con presicion escalar por capas\n",
    "    #Tres trabajan con redes neuronales. Recomendado con redes neuronales.\n",
    "    \n",
    "face_recognizer=cv2.face.EigenFaceRecognizer_create() #Funcion de reconocimiento facial\n",
    "\n",
    "print(\"Entrenando...\")\n",
    "face_recognizer.train(facesData,np.array(labels))\n",
    "\n",
    "face_recognizer.write(\"modeloEigenFace.xml\")\n",
    "print(\"Modelo almacenado...\")"
   ]
  }
 ],
 "metadata": {
  "kernelspec": {
   "display_name": "Python 3",
   "language": "python",
   "name": "python3"
  },
  "language_info": {
   "codemirror_mode": {
    "name": "ipython",
    "version": 3
   },
   "file_extension": ".py",
   "mimetype": "text/x-python",
   "name": "python",
   "nbconvert_exporter": "python",
   "pygments_lexer": "ipython3",
   "version": "3.6.6"
  }
 },
 "nbformat": 4,
 "nbformat_minor": 2
}
