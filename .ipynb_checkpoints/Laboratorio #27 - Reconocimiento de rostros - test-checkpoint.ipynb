{
 "cells": [
  {
   "cell_type": "code",
   "execution_count": null,
   "metadata": {},
   "outputs": [],
   "source": [
    "import cv2\n",
    "import os\n",
    "import numpy as np\n",
    "\n",
    "dataPath=\"Data\"\n",
    "imagePath=os.listdir(dataPath)\n",
    "print(\"imagePath\",imagePath)\n",
    "\n",
    "face_recognizer=cv2.face.EigenFaceRecognizer_create()\n",
    "\n",
    "face_recognizer.read(\"modeloEigenFace.xml\")\n",
    "\n",
    "cap=cv2.VideoCapture(\"persona1_test.mp4\")\n",
    "\n",
    "faceClassif=cv2.CascadeClassifier(\"haarcascades/haarcascade_frontalface_default.xml\")\n",
    "\n",
    "while True:\n",
    "    ret,frame=cap.read()\n",
    "    if ret==False:\n",
    "        break\n",
    "    gray=cv2.cvtColor(frame,cv2.COLOR_BGR2GRAY)\n",
    "    auxFrame=gray.copy()\n",
    "    faces=faceClassif.detectMultiScale(gray,1.3,5) #Detectar rostros\n",
    "    for (x,y,w,h) in faces:        \n",
    "        rostro=auxFrame[y:y+h,x:x+w] #Escaneo vertifical y horizontal\n",
    "        rostro=cv2.resize(rostro,(150,150),interpolation=cv2.INTER_CUBIC)\n",
    "        result=face_recognizer.predict(rostro)\n",
    "        cv2.putText(frame,'{}'.format(result),(x,y-5),1,1.3,(255,255,0),1,cv2.LINE_AA\n",
    "        \n",
    "        #Verificaciones de rango para el manejo de estabilidad\n",
    "        if result[1]<4700:                   \n",
    "            cv2.putText(frame,'{}'.format(imagePath[result[0]]),(x,y-25),2,1.1,(0,255,0),1,cv2.LINE_AA)\n",
    "            cv2.rectangle(frame,(x,y),(x+w,y+h),(0,255,0),2)\n",
    "        else:\n",
    "            cv2.putText(frame,'Desconocido',(x,y-25),2,0.8,(0,0,255),1,cv2.LINE_AA)\n",
    "            cv2.rectangle(frame,(x,y),(x+w,y+h),(0,0,255),2)\n",
    "        \n",
    "        cv2.rectangle(frame,(x,y),(x+w,y+h),(0,255,0),2)\n",
    "    cv2.imshow(\"frame\",frame)\n",
    "    k=cv2.waitKey(1)\n",
    "    if k==27:\n",
    "        break\n",
    "cap.release()\n",
    "cv2.destroyAllWindows()\n",
    "                    \n",
    "#Recomendacion para el entrenamiento. \n",
    "    #5000 imagenes es recomendado el entrenamiento.\n",
    "#En cagel estan todos los demos.\n",
    "                    \n"
   ]
  }
 ],
 "metadata": {
  "kernelspec": {
   "display_name": "Python 3",
   "language": "python",
   "name": "python3"
  },
  "language_info": {
   "codemirror_mode": {
    "name": "ipython",
    "version": 3
   },
   "file_extension": ".py",
   "mimetype": "text/x-python",
   "name": "python",
   "nbconvert_exporter": "python",
   "pygments_lexer": "ipython3",
   "version": "3.6.6"
  }
 },
 "nbformat": 4,
 "nbformat_minor": 2
}
