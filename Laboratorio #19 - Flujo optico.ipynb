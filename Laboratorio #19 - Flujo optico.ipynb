{
 "cells": [
  {
   "cell_type": "code",
   "execution_count": 6,
   "metadata": {},
   "outputs": [],
   "source": [
    "import cv2\n",
    "import numpy as np\n",
    "\n",
    "#El flujo optico esta relacionado con la funcion Lukas-Kanade. Movimiento de puentos especifios o regiones. Tiene que ver una verificacion entre un frame y otro.\n",
    "#El flujo optico es el seguimiento que se esta realizando\n",
    "    #1ro detectar esquinas\n",
    "    #2do se hace el flujo\n",
    "#Deteccion de esquinas - Shitomasi.\n",
    "\n",
    "#Control y deteccion de esquina\n",
    "corner_track_params=dict(maxCorners=10,qualityLevel=0.3,minDistance=7,blockSize=7)"
   ]
  },
  {
   "cell_type": "code",
   "execution_count": 7,
   "metadata": {},
   "outputs": [],
   "source": [
    "lk_params=dict(winSize=(200,200),maxLevel=2, criteria=(cv2.TERM_CRITERIA_EPS|cv2.TERM_CRITERIA_COUNT,10,0.03))"
   ]
  },
  {
   "cell_type": "code",
   "execution_count": 8,
   "metadata": {},
   "outputs": [
    {
     "name": "stderr",
     "output_type": "stream",
     "text": [
      "<ipython-input-8-d9dd00c9a24e>:17: DeprecationWarning: an integer is required (got type numpy.float32).  Implicit conversion to integers using __int__ is deprecated, and may be removed in a future version of Python.\n",
      "  mask=cv2.line(mask,(x_new,y_new),(x_prev,y_prev),(0,255,0),3)\n",
      "<ipython-input-8-d9dd00c9a24e>:18: DeprecationWarning: an integer is required (got type numpy.float32).  Implicit conversion to integers using __int__ is deprecated, and may be removed in a future version of Python.\n",
      "  frame=cv2.circle(frame,(x_new,y_new),8,(0,0,255),-1)\n"
     ]
    },
    {
     "ename": "AttributeError",
     "evalue": "'cv2.VideoCapture' object has no attribute 'realese'",
     "output_type": "error",
     "traceback": [
      "\u001b[1;31m---------------------------------------------------------------------------\u001b[0m",
      "\u001b[1;31mAttributeError\u001b[0m                            Traceback (most recent call last)",
      "\u001b[1;32m<ipython-input-8-d9dd00c9a24e>\u001b[0m in \u001b[0;36m<module>\u001b[1;34m\u001b[0m\n\u001b[0;32m     25\u001b[0m     \u001b[0mprevPts\u001b[0m\u001b[1;33m=\u001b[0m\u001b[0mgood_new\u001b[0m\u001b[1;33m.\u001b[0m\u001b[0mreshape\u001b[0m\u001b[1;33m(\u001b[0m\u001b[1;33m-\u001b[0m\u001b[1;36m1\u001b[0m\u001b[1;33m,\u001b[0m\u001b[1;36m1\u001b[0m\u001b[1;33m,\u001b[0m\u001b[1;36m2\u001b[0m\u001b[1;33m)\u001b[0m\u001b[1;33m\u001b[0m\u001b[1;33m\u001b[0m\u001b[0m\n\u001b[0;32m     26\u001b[0m \u001b[0mcv2\u001b[0m\u001b[1;33m.\u001b[0m\u001b[0mdestroyAllWindows\u001b[0m\u001b[1;33m(\u001b[0m\u001b[1;33m)\u001b[0m\u001b[1;33m\u001b[0m\u001b[1;33m\u001b[0m\u001b[0m\n\u001b[1;32m---> 27\u001b[1;33m \u001b[0mcap\u001b[0m\u001b[1;33m.\u001b[0m\u001b[0mrealese\u001b[0m\u001b[1;33m(\u001b[0m\u001b[1;33m)\u001b[0m\u001b[1;33m\u001b[0m\u001b[1;33m\u001b[0m\u001b[0m\n\u001b[0m",
      "\u001b[1;31mAttributeError\u001b[0m: 'cv2.VideoCapture' object has no attribute 'realese'"
     ]
    }
   ],
   "source": [
    "cap=cv2.VideoCapture(1)\n",
    "ret,prev_frame=cap.read() #Lectura del frame anterior\n",
    "prev_frame_gray=cv2.cvtColor(prev_frame, cv2.COLOR_BGR2GRAY)\n",
    "prevPts=cv2.goodFeaturesToTrack(prev_frame_gray, mask=None, **corner_track_params) #Hacer un rastreo de las mejores caracteristicas\n",
    "mask=np.zeros_like(prev_frame) #Matriz verificadora de puntos\n",
    "\n",
    "while True:\n",
    "    ret, frame=cap.read() #Lectura del frame actual\n",
    "    frame_gray=cv2.cvtColor(frame, cv2.COLOR_BGR2GRAY)\n",
    "    nextPts, status,error=cv2.calcOpticalFlowPyrLK(prev_frame_gray, frame_gray,prevPts,None,**lk_params) #El flujo optico se trabaja con la funcion piramidal\n",
    "    good_new=nextPts[status==1]#Obtener los mejores arrays a nivel de estatus. Frame actual bueno\n",
    "    good_prev=prevPts[status==1]\n",
    "    \n",
    "    for i,(new,prev) in enumerate(zip(good_new, good_prev)):\n",
    "        x_new,y_new=new.ravel()#ravel aplana la informacion. Matriz a Vector\n",
    "        x_prev,y_prev=prev.ravel()\n",
    "        mask=cv2.line(mask,(x_new,y_new),(x_prev,y_prev),(0,255,0),3)\n",
    "        frame=cv2.circle(frame,(x_new,y_new),8,(0,0,255),-1)\n",
    "    img=cv2.add(frame,mask)\n",
    "    cv2.imshow(\"Frame\",img)\n",
    "    k=cv2.waitKey(30) & 0xFF\n",
    "    if k==27:\n",
    "        break\n",
    "    pre_gray=frame_gray.copy()\n",
    "    prevPts=good_new.reshape(-1,1,2)\n",
    "    \n",
    "cv2.destroyAllWindows()\n",
    "cap.realese()"
   ]
  },
  {
   "cell_type": "code",
   "execution_count": null,
   "metadata": {},
   "outputs": [],
   "source": []
  }
 ],
 "metadata": {
  "kernelspec": {
   "display_name": "Python 3",
   "language": "python",
   "name": "python3"
  },
  "language_info": {
   "codemirror_mode": {
    "name": "ipython",
    "version": 3
   },
   "file_extension": ".py",
   "mimetype": "text/x-python",
   "name": "python",
   "nbconvert_exporter": "python",
   "pygments_lexer": "ipython3",
   "version": "3.8.3"
  }
 },
 "nbformat": 4,
 "nbformat_minor": 4
}
